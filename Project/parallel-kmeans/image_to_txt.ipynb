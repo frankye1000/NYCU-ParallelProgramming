{
 "cells": [
  {
   "cell_type": "code",
   "execution_count": 1,
   "metadata": {},
   "outputs": [],
   "source": [
    "import cv2"
   ]
  },
  {
   "cell_type": "code",
   "execution_count": 2,
   "metadata": {},
   "outputs": [],
   "source": [
    "img_array = cv2.imread(\"./Image_data/football.jpg\")\n",
    "img_array = cv2.cvtColor(img_array, cv2.COLOR_BGR2RGB)"
   ]
  },
  {
   "cell_type": "code",
   "execution_count": 3,
   "metadata": {},
   "outputs": [
    {
     "name": "stdout",
     "output_type": "stream",
     "text": [
      "682 1024 3\n"
     ]
    }
   ],
   "source": [
    "row,column,dim = img_array.shape\n",
    "print(row,column,dim)"
   ]
  },
  {
   "cell_type": "code",
   "execution_count": 4,
   "metadata": {},
   "outputs": [],
   "source": [
    "import os\n",
    "if os.path.exists(\"./Image_data/football.txt\"):\n",
    "  os.remove(\"./Image_data/football.txt\")\n",
    "else:\n",
    "  print(\"The file does not exist\")\n",
    "\n",
    "\n",
    "path = './Image_data/football.txt'\n",
    "f = open(path, 'a')\n",
    "\n",
    "i = 0\n",
    "for r in range(row):\n",
    "    for c in range(column):\n",
    "        D = [str(i), str(img_array[r][c][0]), str(img_array[r][c][1]), str(img_array[r][c][2]) ] # index R G B\n",
    "        G = \" \".join(D)\n",
    "        G += \"\\n\"\n",
    "        f.write(G)\n",
    "        i+=1\n",
    "\n",
    "f.close()"
   ]
  },
  {
   "cell_type": "code",
   "execution_count": null,
   "metadata": {},
   "outputs": [],
   "source": []
  },
  {
   "cell_type": "code",
   "execution_count": null,
   "metadata": {},
   "outputs": [],
   "source": [
    "\n"
   ]
  }
 ],
 "metadata": {
  "kernelspec": {
   "display_name": "myenv",
   "language": "python",
   "name": "python3"
  },
  "language_info": {
   "codemirror_mode": {
    "name": "ipython",
    "version": 3
   },
   "file_extension": ".py",
   "mimetype": "text/x-python",
   "name": "python",
   "nbconvert_exporter": "python",
   "pygments_lexer": "ipython3",
   "version": "3.9.15"
  },
  "orig_nbformat": 4,
  "vscode": {
   "interpreter": {
    "hash": "8fb0d4a6c496223ca2f2a37aed1120660cfd8f893f7677a00b47453a0848a60c"
   }
  }
 },
 "nbformat": 4,
 "nbformat_minor": 2
}
