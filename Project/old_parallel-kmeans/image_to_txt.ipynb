{
 "cells": [
  {
   "cell_type": "code",
   "execution_count": 22,
   "metadata": {},
   "outputs": [],
   "source": [
    "import os\n",
    "import cv2\n",
    "from sklearn import preprocessing"
   ]
  },
  {
   "cell_type": "code",
   "execution_count": 23,
   "metadata": {},
   "outputs": [],
   "source": [
    "# def standize(input_image):\n",
    "#     scaler = preprocessing.StandardScaler().fit(input_image)\n",
    "#     X_scaled = scaler.transform(input_image)\n",
    "    \n",
    "#     return X_scaled"
   ]
  },
  {
   "cell_type": "code",
   "execution_count": 24,
   "metadata": {},
   "outputs": [],
   "source": [
    "filename = 'small_1'"
   ]
  },
  {
   "cell_type": "code",
   "execution_count": 25,
   "metadata": {},
   "outputs": [],
   "source": [
    "img_array = cv2.imread(\"./Image_data/{}.jpg\".format(filename))\n",
    "img_array = cv2.resize(img_array,(64,64))\n",
    "img_array = cv2.cvtColor(img_array, cv2.COLOR_BGR2RGB)"
   ]
  },
  {
   "cell_type": "code",
   "execution_count": 26,
   "metadata": {},
   "outputs": [],
   "source": [
    "a,b,c = img_array.shape\n",
    "img_array_2D = img_array.reshape(a*b,c)"
   ]
  },
  {
   "cell_type": "code",
   "execution_count": 27,
   "metadata": {},
   "outputs": [],
   "source": [
    "img_array_2D_normal = img_array_2D #standize(img_array_2D)"
   ]
  },
  {
   "cell_type": "code",
   "execution_count": 28,
   "metadata": {},
   "outputs": [
    {
     "name": "stdout",
     "output_type": "stream",
     "text": [
      "64 64 3\n"
     ]
    }
   ],
   "source": [
    "img_array = img_array_2D_normal.reshape(a,b,c)\n",
    "row,column,dim = img_array.shape\n",
    "print(row,column,dim)"
   ]
  },
  {
   "cell_type": "code",
   "execution_count": 29,
   "metadata": {},
   "outputs": [],
   "source": [
    "file_name = \"{}.txt\".format(filename)\n",
    "\n",
    "if os.path.exists(\"./Image_data/{}\".format(file_name)):\n",
    "  os.remove(\"./Image_data/{}\".format(file_name))\n",
    "else:\n",
    "  print(\"The file does not exist\")\n",
    "\n",
    "\n",
    "path = \"./Image_data/{}\".format(file_name)\n",
    "f = open(path, 'a')\n",
    "\n",
    "i = 1 # index from 1\n",
    "for r in range(row):\n",
    "    for c in range(column):\n",
    "        D = [str(i), str(img_array[r][c][0]), str(img_array[r][c][1]), str(img_array[r][c][2]) ] # index R G B\n",
    "        G = \" \".join(D)\n",
    "        G += \"\\n\"\n",
    "        f.write(G)\n",
    "        i+=1\n",
    "\n",
    "f.close()"
   ]
  },
  {
   "cell_type": "code",
   "execution_count": 30,
   "metadata": {},
   "outputs": [
    {
     "data": {
      "text/plain": [
       "True"
      ]
     },
     "execution_count": 30,
     "metadata": {},
     "output_type": "execute_result"
    }
   ],
   "source": [
    "cv2.imwrite('Image_data/Small_1.jpg',  cv2.cvtColor(img_array, cv2.COLOR_BGR2RGB))"
   ]
  },
  {
   "cell_type": "code",
   "execution_count": null,
   "metadata": {},
   "outputs": [],
   "source": [
    "\n"
   ]
  }
 ],
 "metadata": {
  "kernelspec": {
   "display_name": "myenv",
   "language": "python",
   "name": "python3"
  },
  "language_info": {
   "codemirror_mode": {
    "name": "ipython",
    "version": 3
   },
   "file_extension": ".py",
   "mimetype": "text/x-python",
   "name": "python",
   "nbconvert_exporter": "python",
   "pygments_lexer": "ipython3",
   "version": "3.9.15"
  },
  "orig_nbformat": 4,
  "vscode": {
   "interpreter": {
    "hash": "8fb0d4a6c496223ca2f2a37aed1120660cfd8f893f7677a00b47453a0848a60c"
   }
  }
 },
 "nbformat": 4,
 "nbformat_minor": 2
}
