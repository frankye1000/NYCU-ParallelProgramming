{
 "cells": [
  {
   "cell_type": "code",
   "execution_count": 20,
   "metadata": {},
   "outputs": [
    {
     "name": "stdout",
     "output_type": "stream",
     "text": [
      "(232, 232)\n",
      "381\n"
     ]
    }
   ],
   "source": [
    "import cv2\n",
    "import os\n",
    "import random\n",
    "from glob import glob\n",
    "\n",
    "filepath = \"./result/small/cuda/\"\n",
    "\n",
    "img = cv2.imread(filepath+'002_0.png')  # 读取保存的任意一张图片\n",
    "fps = 23.97602537435857 # 根据第二节介绍的方法获取视频的 fps\n",
    "size = (img.shape[1],img.shape[0])  #获取视频中图片宽高度信息\n",
    "print(size)\n",
    "fourcc = cv2.VideoWriter_fourcc(*\"XVID\") # 视频编码格式\n",
    "videoWrite = cv2.VideoWriter(filepath+'cuda.avi',fourcc,fps,size)# 根据图片的大小，创建写入对象 （文件名，支持的编码器，帧率，视频大小（图片大小））\n",
    "\n",
    "files = sorted(glob(filepath+'*.png'))\n",
    "out_num = len(files)\n",
    "print(out_num)\n",
    "for path in files:\n",
    "    img = cv2.imread(path)\n",
    "    videoWrite.write(img)# 将图片写入所创建的视频对象\n",
    "videoWrite.release() # 释放了才能完成写入，连续写多个视频的时候这句话非常关键\n"
   ]
  },
  {
   "cell_type": "code",
   "execution_count": null,
   "metadata": {},
   "outputs": [],
   "source": []
  },
  {
   "cell_type": "code",
   "execution_count": null,
   "metadata": {},
   "outputs": [],
   "source": []
  }
 ],
 "metadata": {
  "kernelspec": {
   "display_name": "myenv",
   "language": "python",
   "name": "python3"
  },
  "language_info": {
   "codemirror_mode": {
    "name": "ipython",
    "version": 3
   },
   "file_extension": ".py",
   "mimetype": "text/x-python",
   "name": "python",
   "nbconvert_exporter": "python",
   "pygments_lexer": "ipython3",
   "version": "3.9.15 (main, Nov 24 2022, 14:39:17) [MSC v.1916 64 bit (AMD64)]"
  },
  "orig_nbformat": 4,
  "vscode": {
   "interpreter": {
    "hash": "8fb0d4a6c496223ca2f2a37aed1120660cfd8f893f7677a00b47453a0848a60c"
   }
  }
 },
 "nbformat": 4,
 "nbformat_minor": 2
}
