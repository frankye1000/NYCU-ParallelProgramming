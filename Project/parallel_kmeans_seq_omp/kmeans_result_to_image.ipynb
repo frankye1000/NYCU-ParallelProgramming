{
 "cells": [
  {
   "cell_type": "code",
   "execution_count": 1,
   "metadata": {},
   "outputs": [],
   "source": [
    "import cv2\n",
    "import math\n",
    "import random\n",
    "import numpy as np\n",
    "import pandas as pd\n",
    "import matplotlib.pyplot as plt\n",
    "fps = 23.97602537435857\n",
    "random.seed(10)\n",
    "colordict={}\n",
    "for i in range(128):   # 128是群數\n",
    "    colordict[str(i)] = [random.randint(0,255),random.randint(0,255),random.randint(0,255)]"
   ]
  },
  {
   "cell_type": "code",
   "execution_count": 2,
   "metadata": {},
   "outputs": [],
   "source": [
    "big_time = pd.read_csv(\"./small_time.csv\")\n",
    "filename = \"Small_1\""
   ]
  },
  {
   "cell_type": "code",
   "execution_count": null,
   "metadata": {},
   "outputs": [],
   "source": [
    "\n",
    "for k in range(2, 129):\n",
    "    frame_num =  math.ceil(big_time[big_time['k']==k]['cudaTime'].values[0] * fps) \n",
    "    \n",
    "    img_array = cv2.imread(\"./Image_data/{}.jpg\".format(filename))\n",
    "    row,column,dim = img_array.shape\n",
    "    print(row,column,dim)\n",
    "    \n",
    "    with open('./Image_data/{}.txt-{}.membership'.format(filename,k)) as f:\n",
    "        contents = [line.strip(\"\\n\") for line in f.readlines()]\n",
    "\n",
    "    img_array_kmeansresult = np.zeros((row, column, dim))\n",
    "\n",
    "\n",
    "    i = 0\n",
    "    for r in range(row):\n",
    "        for c in range(column):\n",
    "            group_index                  = contents[i].split(' ')[1]\n",
    "            img_array_kmeansresult[r][c] = colordict[group_index]\n",
    "            i += 1\n",
    "\n",
    "    # cv2.imwrite('result/small/{}.jpg'.format(k), img_array_kmeansresult)\n",
    "\n",
    "    # plt.figure()\n",
    "    # f, axarr = plt.subplots(1, 2,figsize=(10,8)) \n",
    "    # axarr[0].imshow(cv2.cvtColor(img_array, cv2.COLOR_BGR2RGB))\n",
    "    # axarr[1].imshow(img_array_kmeansresult.astype(np.uint8))\n",
    "\n",
    "\n",
    "    for fn in range(frame_num):\n",
    "        plt.figure()\n",
    "        f, ax = plt.subplots(figsize=(3,4)) \n",
    "        ax.set_axis_off()\n",
    "        plt.imshow(img_array_kmeansresult.astype(np.uint8)) \n",
    "        plt.text(30, 2, \"{}\".format(k), ha='center',va='top' , rotation=0, wrap=True, fontsize=20)\n",
    "        plt.savefig(\"./result/small/cuda/{}_{}.png\".format(str(k).zfill(3),fn), bbox_inches='tight', pad_inches=0)            \n",
    "        # plt.show()\n",
    "        plt.close(f)\n",
    "        "
   ]
  },
  {
   "cell_type": "code",
   "execution_count": null,
   "metadata": {},
   "outputs": [],
   "source": []
  },
  {
   "cell_type": "code",
   "execution_count": null,
   "metadata": {},
   "outputs": [],
   "source": []
  },
  {
   "cell_type": "code",
   "execution_count": null,
   "metadata": {},
   "outputs": [],
   "source": []
  },
  {
   "cell_type": "code",
   "execution_count": null,
   "metadata": {},
   "outputs": [],
   "source": []
  }
 ],
 "metadata": {
  "kernelspec": {
   "display_name": "myenv",
   "language": "python",
   "name": "python3"
  },
  "language_info": {
   "codemirror_mode": {
    "name": "ipython",
    "version": 3
   },
   "file_extension": ".py",
   "mimetype": "text/x-python",
   "name": "python",
   "nbconvert_exporter": "python",
   "pygments_lexer": "ipython3",
   "version": "3.9.15 (main, Nov 24 2022, 14:39:17) [MSC v.1916 64 bit (AMD64)]"
  },
  "orig_nbformat": 4,
  "vscode": {
   "interpreter": {
    "hash": "8fb0d4a6c496223ca2f2a37aed1120660cfd8f893f7677a00b47453a0848a60c"
   }
  }
 },
 "nbformat": 4,
 "nbformat_minor": 2
}
